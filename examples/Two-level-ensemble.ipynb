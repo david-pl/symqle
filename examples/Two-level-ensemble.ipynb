{
 "cells": [
  {
   "cell_type": "code",
   "execution_count": null,
   "metadata": {
    "collapsed": true
   },
   "outputs": [],
   "source": [
    "from symqle import *"
   ]
  },
  {
   "cell_type": "code",
   "execution_count": null,
   "metadata": {},
   "outputs": [],
   "source": [
    "# Number of atoms\n",
    "N = 2\n",
    "\n",
    "# Corresponding bases\n",
    "bases = []\n",
    "for i in range(1, N+1):\n",
    "    bases.append('atom-%i' %i)\n",
    "\n",
    "# Operators\n",
    "sm = []\n",
    "for i in range(1, N+1):\n",
    "    sm.append(operator('σ%i' %i, bases[i-1]))\n",
    "\n",
    "# Rules\n",
    "rs = ruleset(sm)\n",
    "for i in range(0, N):\n",
    "    rs.add_rule(sm[i]*sm[i], 0)\n",
    "    rs.add_rule(sm[i]*dagger(sm[i])*sm[i], sm[i])"
   ]
  },
  {
   "cell_type": "code",
   "execution_count": null,
   "metadata": {},
   "outputs": [],
   "source": [
    "rs.rules"
   ]
  },
  {
   "cell_type": "code",
   "execution_count": null,
   "metadata": {
    "collapsed": true
   },
   "outputs": [],
   "source": [
    "# Hamiltonian\n",
    "om = Symbol('ω')\n",
    "H = om*sum([dagger(s)*s for s in sm])"
   ]
  },
  {
   "cell_type": "code",
   "execution_count": null,
   "metadata": {},
   "outputs": [],
   "source": [
    "H"
   ]
  },
  {
   "cell_type": "code",
   "execution_count": null,
   "metadata": {
    "collapsed": true
   },
   "outputs": [],
   "source": [
    "# Lindblad\n",
    "gam = Symbol('γ')\n",
    "rates = [gam for i in range(N)]\n",
    "L = sm"
   ]
  },
  {
   "cell_type": "code",
   "execution_count": null,
   "metadata": {},
   "outputs": [],
   "source": [
    "langevin(sm[1], H, L, rates, ruleset=rs, max_iter=5)"
   ]
  }
 ],
 "metadata": {
  "kernelspec": {
   "display_name": "Python 3",
   "language": "python",
   "name": "python3"
  },
  "language_info": {
   "codemirror_mode": {
    "name": "ipython",
    "version": 3
   },
   "file_extension": ".py",
   "mimetype": "text/x-python",
   "name": "python",
   "nbconvert_exporter": "python",
   "pygments_lexer": "ipython3",
   "version": "3.6.1"
  }
 },
 "nbformat": 4,
 "nbformat_minor": 2
}
