{
 "cells": [
  {
   "cell_type": "code",
   "execution_count": 1,
   "metadata": {
    "collapsed": true
   },
   "outputs": [],
   "source": [
    "from symqle import *"
   ]
  },
  {
   "cell_type": "code",
   "execution_count": 2,
   "metadata": {
    "collapsed": true
   },
   "outputs": [],
   "source": [
    "# Number of atoms\n",
    "N = 2\n",
    "\n",
    "# Corresponding bases\n",
    "bases = []\n",
    "for i in range(1, N+1):\n",
    "    bases.append(basis('atom-%i' %i))"
   ]
  },
  {
   "cell_type": "code",
   "execution_count": 3,
   "metadata": {},
   "outputs": [],
   "source": [
    "# Operators\n",
    "sm = []\n",
    "sp = []\n",
    "for i in range(0, N):\n",
    "    sm1, sp1 = two_level(bases[i], label=\"σ\", index=i+1)\n",
    "    sm.append(sm1)\n",
    "    sp.append(sp1)"
   ]
  },
  {
   "cell_type": "code",
   "execution_count": 4,
   "metadata": {
    "collapsed": true
   },
   "outputs": [],
   "source": [
    "# Hamiltonian\n",
    "om = Symbol('ω')\n",
    "H = om*sum([dagger(s)*s for s in sm])"
   ]
  },
  {
   "cell_type": "code",
   "execution_count": 5,
   "metadata": {},
   "outputs": [
    {
     "data": {
      "image/png": "[encoded data removed]",
      "text/latex": [
       "$$ω \\left(σ_{1}^{\\dagger} σ_{1} + σ_{2}^{\\dagger} σ_{2}\\right)$$"
      ],
      "text/plain": [
       "  ⎛     †              †      ⎞\n",
       "ω⋅⎝σ_{1} ⋅σ_{1} + σ_{2} ⋅σ_{2}⎠"
      ]
     },
     "execution_count": 5,
     "metadata": {},
     "output_type": "execute_result"
    }
   ],
   "source": [
    "pretty(H)"
   ]
  },
  {
   "cell_type": "code",
   "execution_count": 6,
   "metadata": {
    "collapsed": true
   },
   "outputs": [],
   "source": [
    "# Lindblad\n",
    "gam = Symbol('γ')\n",
    "rates = [gam for i in range(N)]\n",
    "L = sm"
   ]
  },
  {
   "cell_type": "code",
   "execution_count": 7,
   "metadata": {},
   "outputs": [
    {
     "data": {
      "image/png": "[encoded data removed]",
      "text/latex": [
       "$$- 0.5 γ σ_{2} - 1.0 i ω σ_{2}$$"
      ],
      "text/plain": [
       "-0.5⋅γ⋅σ_{2} - 1.0⋅ⅈ⋅ω⋅σ_{2}"
      ]
     },
     "execution_count": 7,
     "metadata": {},
     "output_type": "execute_result"
    }
   ],
   "source": [
    "pretty(langevin(sm[1], H, L, rates, max_iter=3))"
   ]
  },
  {
   "cell_type": "code",
   "execution_count": 8,
   "metadata": {},
   "outputs": [
    {
     "data": {
      "image/png": "[encoded data removed]",
      "text/latex": [
       "$$- 0.5 <σ_{1}> γ - 1.0 i <σ_{1}> ω$$"
      ],
      "text/plain": [
       "-0.5⋅<σ_{1}>⋅γ - 1.0⋅ⅈ⋅<σ_{1}>⋅ω"
      ]
     },
     "execution_count": 8,
     "metadata": {},
     "output_type": "execute_result"
    }
   ],
   "source": [
    "average(langevin(sm[0], H, L, rates, max_iter=2))"
   ]
  }
 ],
 "metadata": {
  "kernelspec": {
   "display_name": "Python 3",
   "language": "python",
   "name": "python3"
  },
  "language_info": {
   "codemirror_mode": {
    "name": "ipython",
    "version": 3
   },
   "file_extension": ".py",
   "mimetype": "text/x-python",
   "name": "python",
   "nbconvert_exporter": "python",
   "pygments_lexer": "ipython3",
   "version": "3.6.1"
  }
 },
 "nbformat": 4,
 "nbformat_minor": 2
}
